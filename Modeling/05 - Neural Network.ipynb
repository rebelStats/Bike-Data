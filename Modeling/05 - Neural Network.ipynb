{
 "cells": [
  {
   "cell_type": "markdown",
   "id": "7bb539b8-ff2d-4381-95a1-39aae382a85a",
   "metadata": {},
   "source": [
    "## In this notebook we train a neural network to model the data using Pytorch"
   ]
  },
  {
   "cell_type": "code",
   "execution_count": 1,
   "id": "28a5cfab-7bd5-43d6-bf3e-529ebc68d947",
   "metadata": {},
   "outputs": [],
   "source": [
    "import torch\n",
    "from torch import nn\n",
    "from sklearn.preprocessing import StandardScaler\n",
    "import pandas as pd\n",
    "import numpy as np\n",
    "from sklearn.model_selection import train_test_split\n",
    "import matplotlib.pyplot as plt"
   ]
  },
  {
   "cell_type": "code",
   "execution_count": 2,
   "id": "8a1d2e4b-cacc-4b10-bd1c-6e64945cd248",
   "metadata": {},
   "outputs": [
    {
     "name": "stderr",
     "output_type": "stream",
     "text": [
      "/tmp/ipykernel_80/1740552796.py:1: DtypeWarning: Columns (6,8) have mixed types. Specify dtype option on import or set low_memory=False.\n",
      "  bike = pd.read_csv('bike_features_final.csv')\n"
     ]
    }
   ],
   "source": [
    "bike = pd.read_csv('bike_features_final.csv')"
   ]
  },
  {
   "cell_type": "code",
   "execution_count": 3,
   "id": "024bc6bd-d209-4234-8306-fb05b59dbb8d",
   "metadata": {},
   "outputs": [],
   "source": [
    "#Independent variables used\n",
    "variables= [\"member_casual\",\"weekend_weekday\",\"ride_length_seconds\",\"with_friend\",\"ride_type\",\"time_of_day\",\"speed_kmh\"]\n",
    "bike_vars = bike[variables]"
   ]
  },
  {
   "cell_type": "code",
   "execution_count": 4,
   "id": "9613782d-717d-461c-aa58-198925bd805b",
   "metadata": {},
   "outputs": [],
   "source": [
    "#test,train split (30%/70%)\n",
    "y = bike.Dist\n",
    "X, x_test, y_train, y_test = train_test_split(bike_vars, y, test_size=0.3,random_state=1)\n",
    "X=pd.get_dummies(X, drop_first=True)\n",
    "x_test=pd.get_dummies(x_test, drop_first=True)"
   ]
  },
  {
   "cell_type": "code",
   "execution_count": 5,
   "id": "757095a3-02bf-45e4-b2a8-e8bcec58e098",
   "metadata": {},
   "outputs": [],
   "source": [
    "X = StandardScaler().fit_transform(X)\n",
    "x_test = StandardScaler().fit_transform(x_test)"
   ]
  },
  {
   "cell_type": "code",
   "execution_count": 6,
   "id": "0b120a8c-de79-45e4-aa4c-cd47a5612a0a",
   "metadata": {
    "tags": []
   },
   "outputs": [],
   "source": [
    "#create tensors the pytorch can use\n",
    "X = torch.from_numpy(X)\n",
    "x_test = torch.from_numpy(x_test)\n",
    "y_train = torch.tensor(y_train.values)\n",
    "y_test = torch.tensor(y_test.values)"
   ]
  },
  {
   "cell_type": "code",
   "execution_count": 7,
   "id": "65fea441-1b6b-44a3-ac0b-9eef252741e4",
   "metadata": {},
   "outputs": [],
   "source": [
    "training_set = torch.utils.data.TensorDataset(X,y_train)"
   ]
  },
  {
   "cell_type": "code",
   "execution_count": 8,
   "id": "2c4c23fb-2a15-4d52-834c-8c504a235e33",
   "metadata": {},
   "outputs": [],
   "source": [
    "validation_set  = torch.utils.data.TensorDataset(x_test,y_test)"
   ]
  },
  {
   "cell_type": "code",
   "execution_count": 9,
   "id": "e6403efe-6105-445f-8700-da6441f0d024",
   "metadata": {},
   "outputs": [],
   "source": [
    "trainloader =  torch.utils.data.DataLoader(training_set, batch_size=200, shuffle=True)"
   ]
  },
  {
   "cell_type": "code",
   "execution_count": 15,
   "id": "0cb437f5-01a3-4618-826c-f90df3fe5bc3",
   "metadata": {},
   "outputs": [
    {
     "data": {
      "text/plain": [
       "9058"
      ]
     },
     "execution_count": 15,
     "metadata": {},
     "output_type": "execute_result"
    }
   ],
   "source": [
    "## number of training batches\n",
    "len(trainloader)"
   ]
  },
  {
   "cell_type": "code",
   "execution_count": 16,
   "id": "8412734d-0778-49ed-9588-7b72889f3a47",
   "metadata": {},
   "outputs": [],
   "source": [
    "validationloader = torch.utils.data.DataLoader(validation_set, batch_size=200, shuffle=True)"
   ]
  },
  {
   "cell_type": "code",
   "execution_count": 17,
   "id": "f6ac1ddb-3b2e-483b-a857-6951cdaba449",
   "metadata": {
    "tags": []
   },
   "outputs": [
    {
     "data": {
      "text/plain": [
       "[tensor([[ 1.0691, -0.3535, -0.1691,  ..., -0.6239, -0.5396,  1.2232],\n",
       "         [ 1.0691, -1.0357, -0.1691,  ...,  1.6028, -0.5396, -0.8176],\n",
       "         [ 1.0691, -0.8043, -0.1691,  ...,  1.6028, -0.5396, -0.8176],\n",
       "         ...,\n",
       "         [-0.9353, -0.8009, -0.1691,  ...,  1.6028, -0.5396, -0.8176],\n",
       "         [-0.9353, -0.5849, -0.1691,  ..., -0.6239, -0.5396,  1.2232],\n",
       "         [ 1.0691,  3.2424, -0.1691,  ..., -0.6239, -0.5396, -0.8176]],\n",
       "        dtype=torch.float64),\n",
       " tensor([ 1.1746,  0.6632,  1.1866,  5.0378,  0.9158,  4.5241,  2.3926,  3.4876,\n",
       "          1.8614,  0.7558,  2.9032,  0.7955,  9.2930,  0.9513,  0.4642,  2.3572,\n",
       "          2.1342,  1.7614,  1.6679,  6.5263,  6.3346,  3.0006,  7.2708,  7.3078,\n",
       "          1.2644,  3.4100,  4.1086,  1.1840,  2.8505,  1.8790,  4.7496,  1.3293,\n",
       "          1.8654,  5.6073,  0.5389,  0.7470,  0.6777,  2.6076,  1.4923,  1.0082,\n",
       "          3.2082,  4.1170,  1.1517,  2.4923,  5.0910,  2.6162,  9.0361,  1.0143,\n",
       "          1.5020,  4.0421,  3.1734,  2.0205,  0.9804,  3.5663,  2.2204,  1.4807,\n",
       "          2.4530,  0.4743,  1.2009,  2.7695,  1.1694,  0.3474,  1.2733,  1.0833,\n",
       "          3.8927,  1.5969,  0.9087,  2.5990,  4.5051,  1.4793,  1.0024,  5.0910,\n",
       "          1.0208,  2.7149,  2.8914,  3.6612,  1.4283,  2.7933,  2.7419,  1.3502,\n",
       "          2.9869,  0.9186,  2.8452,  0.9906,  7.5692,  0.5818,  1.1745,  1.2075,\n",
       "          3.5741,  4.3851,  4.4127,  4.7167,  8.1502,  0.9832,  4.3372,  1.4726,\n",
       "          1.1309,  2.9379,  1.4739,  4.1506,  3.8213,  2.6494,  2.6828,  2.7363,\n",
       "          4.9610,  2.0762,  0.8302,  9.5406,  3.2059,  4.3739,  2.6973,  1.1593,\n",
       "          1.8182,  3.4473,  4.6728,  2.6621,  4.7778,  2.9116,  4.2563,  2.7607,\n",
       "          1.0151,  3.5454,  6.4790,  1.6115,  3.8863,  2.7302,  3.5559,  0.8350,\n",
       "          1.2600,  2.3729,  4.3555,  5.0426,  6.2659,  0.8738,  1.9595,  2.0574,\n",
       "          5.9551,  3.9783,  2.8847,  1.9897,  0.4233,  0.6228,  0.5837,  0.5867,\n",
       "          2.5339,  1.2991,  9.2216,  1.9282,  1.7138,  1.1493,  4.5609,  5.1249,\n",
       "          5.3314,  3.8592,  2.3536,  1.3257,  1.7525, 10.7443,  4.4954,  4.8808,\n",
       "          3.8362,  1.4928,  1.1532,  1.0134,  1.8947,  4.8820,  0.9571,  0.7610,\n",
       "          4.7349,  1.9671,  3.1912,  3.8740,  1.1818,  2.0779,  2.7483,  1.7524,\n",
       "          3.0144,  5.0179,  4.3464,  3.4167,  1.4170,  2.1326,  3.0262,  1.1949,\n",
       "          1.0239,  2.3030,  0.9044,  1.3394,  0.8740,  1.0634,  2.0906,  2.6495,\n",
       "          0.7842,  2.6507,  1.2312,  1.9284,  0.7379,  1.0703,  2.0138,  4.4651],\n",
       "        dtype=torch.float64)]"
      ]
     },
     "execution_count": 17,
     "metadata": {},
     "output_type": "execute_result"
    }
   ],
   "source": [
    "iter(trainloader).next()"
   ]
  },
  {
   "cell_type": "code",
   "execution_count": 18,
   "id": "332aa5f7-2966-451b-989f-63edd88d3b85",
   "metadata": {},
   "outputs": [],
   "source": [
    "train_data, train_labels = iter(trainloader).next()"
   ]
  },
  {
   "cell_type": "code",
   "execution_count": 19,
   "id": "5a0ac8eb-b84a-4e45-99f0-10ab1f5c99aa",
   "metadata": {},
   "outputs": [
    {
     "data": {
      "text/plain": [
       "torch.Size([9])"
      ]
     },
     "execution_count": 19,
     "metadata": {},
     "output_type": "execute_result"
    }
   ],
   "source": [
    "## number of input layers\n",
    "train_data[2].shape"
   ]
  },
  {
   "cell_type": "code",
   "execution_count": 20,
   "id": "2f642882-0fe5-4442-b23a-cc1c4f1758c9",
   "metadata": {},
   "outputs": [],
   "source": [
    "validation_data, validation_labels = iter(validationloader).next()"
   ]
  },
  {
   "cell_type": "markdown",
   "id": "d3e7eebd-ce6f-4976-9d17-fb0e9efd1611",
   "metadata": {},
   "source": [
    "### We will train a simple neural network with 2 layers and ReLu activation function"
   ]
  },
  {
   "cell_type": "code",
   "execution_count": 21,
   "id": "a0cbfc6d-3779-44c1-9514-294c49457995",
   "metadata": {},
   "outputs": [],
   "source": [
    "class RegressionNN(nn.Module):\n",
    "    '''\n",
    "      multilayer network for regression\n",
    "    '''\n",
    "    def __init__(self):\n",
    "        super().__init__()\n",
    "        self.layers = nn.Sequential(\n",
    "          nn.Linear(9, 64),\n",
    "          nn.ReLU(),\n",
    "          nn.Linear(64, 32),\n",
    "          nn.ReLU(),\n",
    "          nn.Linear(32, 1)\n",
    "        )\n",
    "\n",
    "\n",
    "    def forward(self, x):\n",
    "        '''\n",
    "          Forward pass\n",
    "        '''\n",
    "        return self.layers(x)"
   ]
  },
  {
   "cell_type": "code",
   "execution_count": 22,
   "id": "2339cb17-e655-4a23-a79e-e6cad5240eb1",
   "metadata": {},
   "outputs": [],
   "source": [
    "#Loss functions and optimizer\n",
    "model=RegressionNN()\n",
    "\n",
    "loss_function = nn.L1Loss()\n",
    "optimizer = torch.optim.Adam(model.parameters(), lr=.001)"
   ]
  },
  {
   "cell_type": "code",
   "execution_count": 26,
   "id": "cfeeead8-4bcf-42ce-a960-13d3d29bc001",
   "metadata": {
    "tags": []
   },
   "outputs": [
    {
     "data": {
      "text/plain": [
       "'Tesla T4'"
      ]
     },
     "execution_count": 26,
     "metadata": {},
     "output_type": "execute_result"
    }
   ],
   "source": [
    "## GPU used by Amazon SageMaker Studio Lab\n",
    "torch.cuda.get_device_name(0)"
   ]
  },
  {
   "cell_type": "code",
   "execution_count": 28,
   "id": "79d53261-68cd-410f-8c78-1710c7d23fef",
   "metadata": {},
   "outputs": [],
   "source": [
    "#initiate lists to hold evaluation and train losses\n",
    "eval_losses=[] \n",
    "train_losses = []"
   ]
  },
  {
   "cell_type": "code",
   "execution_count": 29,
   "id": "d3a7fdff-fd9f-43ef-a214-e707a972da52",
   "metadata": {
    "tags": []
   },
   "outputs": [],
   "source": [
    "# Define the training loop so we can store the values\n",
    "def train(epoch): \n",
    "    model.train()\n",
    "    # Print epoch\n",
    "    print('\\nEpoch : %d'%epoch)\n",
    "    \n",
    "    # zero out current loss value\n",
    "    running_loss = 0.0\n",
    "    \n",
    "    # Iterate over the DataLoader for training data\n",
    "    for features,dist in trainloader:\n",
    "      \n",
    "      # Get and prepare inputs\n",
    "        inputs = features\n",
    "        targets = dist.view((dist.shape[0], -1))\n",
    "        inputs, targets = inputs.float(), targets.float()\n",
    "      \n",
    "      # Zero the gradients\n",
    "        optimizer.zero_grad()\n",
    "      \n",
    "      # Perform forward pass\n",
    "        outputs = model(inputs)\n",
    "      \n",
    "      # Compute loss\n",
    "        loss = loss_function(outputs, targets)\n",
    "      \n",
    "      # Perform backward pass\n",
    "        loss.backward()\n",
    "      \n",
    "      # Perform optimization\n",
    "        optimizer.step()\n",
    "      \n",
    "      # Print statistics\n",
    "        running_loss += loss.item()\n",
    "    else:\n",
    "        print(f\"Training loss: {running_loss/len(trainloader)}\")\n",
    "        train_losses.append(running_loss/len(trainloader))"
   ]
  },
  {
   "cell_type": "code",
   "execution_count": 30,
   "id": "e2a94464-2755-465d-9e13-57463113fd09",
   "metadata": {},
   "outputs": [],
   "source": [
    "#Function to use the current epoch to model the evaluation data\n",
    "def test(epoch):\n",
    "    model.eval()\n",
    " \n",
    "    running_loss=0\n",
    "    with torch.no_grad():\n",
    "        for features,dist in validationloader:\n",
    "            inputs = features\n",
    "            targets = dist.view((dist.shape[0], -1))\n",
    "            inputs, targets = inputs.float(), targets.float()\n",
    "            \n",
    "            optimizer.zero_grad()\n",
    "            \n",
    "            outputs = model(inputs)\n",
    "            \n",
    "            loss = loss_function(outputs, targets)\n",
    "            \n",
    "            running_loss += loss.item()\n",
    "        else:\n",
    "            print(f\"Validation loss: {running_loss/len(trainloader)}\")\n",
    "            eval_losses.append(running_loss/len(trainloader))"
   ]
  },
  {
   "cell_type": "code",
   "execution_count": 32,
   "id": "24bf4350-8c1b-498a-b2b9-517a1e550053",
   "metadata": {
    "collapsed": true,
    "jupyter": {
     "outputs_hidden": true
    },
    "tags": []
   },
   "outputs": [
    {
     "name": "stdout",
     "output_type": "stream",
     "text": [
      "\n",
      "Epoch : 1\n",
      "Training loss: 0.012921179690260295\n",
      "Validation loss: 0.004946940319214101\n",
      "Trigger times: 0\n",
      "\n",
      "Epoch : 2\n",
      "Training loss: 0.01021910072434887\n",
      "Validation loss: 0.004796398591273212\n",
      "Trigger times: 0\n",
      "\n",
      "Epoch : 3\n",
      "Training loss: 0.009423995839847677\n",
      "Validation loss: 0.0036301469113854587\n",
      "Trigger times: 0\n",
      "\n",
      "Epoch : 4\n",
      "Training loss: 0.008809231593258979\n",
      "Validation loss: 0.0038494977155269726\n",
      "Trigger Times: 1\n",
      "\n",
      "Epoch : 5\n",
      "Training loss: 0.008519265385690915\n",
      "Validation loss: 0.0051026578295912586\n",
      "Trigger Times: 2\n",
      "\n",
      "Epoch : 6\n",
      "Training loss: 0.008225228753897921\n",
      "Validation loss: 0.002869382524862063\n",
      "Trigger times: 0\n",
      "\n",
      "Epoch : 7\n",
      "Training loss: 0.007994862674581465\n",
      "Validation loss: 0.0027724287464337078\n",
      "Trigger times: 0\n",
      "\n",
      "Epoch : 8\n",
      "Training loss: 0.007798796991261821\n",
      "Validation loss: 0.0034203776243217016\n",
      "Trigger Times: 1\n",
      "\n",
      "Epoch : 9\n",
      "Training loss: 0.007603052170880568\n",
      "Validation loss: 0.0026275566515349697\n",
      "Trigger times: 0\n",
      "\n",
      "Epoch : 10\n",
      "Training loss: 0.0074407922503036475\n",
      "Validation loss: 0.0027983918697934134\n",
      "Trigger Times: 1\n",
      "\n",
      "Epoch : 11\n",
      "Training loss: 0.007340504620526521\n",
      "Validation loss: 0.0037278013114588567\n",
      "Trigger Times: 2\n",
      "\n",
      "Epoch : 12\n",
      "Training loss: 0.007115293161042461\n",
      "Validation loss: 0.002629106987200284\n",
      "Trigger times: 0\n",
      "\n",
      "Epoch : 13\n",
      "Training loss: 0.0070442471633276405\n",
      "Validation loss: 0.0025356996749057053\n",
      "Trigger times: 0\n",
      "\n",
      "Epoch : 14\n",
      "Training loss: 0.006928000363564873\n",
      "Validation loss: 0.003955173338092016\n",
      "Trigger Times: 1\n",
      "\n",
      "Epoch : 15\n",
      "Training loss: 0.006854218520268512\n",
      "Validation loss: 0.0026521146798485404\n",
      "Trigger times: 0\n",
      "\n",
      "Epoch : 16\n",
      "Training loss: 0.006799273593820094\n",
      "Validation loss: 0.0027021958052019695\n",
      "Trigger Times: 1\n",
      "\n",
      "Epoch : 17\n",
      "Training loss: 0.006681464620966437\n",
      "Validation loss: 0.0033450149108472118\n",
      "Trigger Times: 2\n",
      "\n",
      "Epoch : 18\n",
      "Training loss: 0.006595477022115058\n",
      "Validation loss: 0.0031564472720572315\n",
      "Trigger times: 0\n",
      "\n",
      "Epoch : 19\n",
      "Training loss: 0.006554768203759143\n",
      "Validation loss: 0.0030340906514829983\n",
      "Trigger times: 0\n",
      "\n",
      "Epoch : 20\n",
      "Training loss: 0.006410276708718522\n",
      "Validation loss: 0.0027793985362754643\n",
      "Trigger times: 0\n",
      "\n",
      "Epoch : 21\n",
      "Training loss: 0.0064725096563027825\n",
      "Validation loss: 0.002241212239546126\n",
      "Trigger times: 0\n",
      "\n",
      "Epoch : 22\n",
      "Training loss: 0.006310558661351301\n",
      "Validation loss: 0.0033424859202811756\n",
      "Trigger Times: 1\n",
      "\n",
      "Epoch : 23\n",
      "Training loss: 0.0062909382351234696\n",
      "Validation loss: 0.002420397980016718\n",
      "Trigger times: 0\n",
      "\n",
      "Epoch : 24\n",
      "Training loss: 0.006192651173220378\n",
      "Validation loss: 0.003416169874125803\n",
      "Trigger Times: 1\n",
      "\n",
      "Epoch : 25\n",
      "Training loss: 0.0061530591613107415\n",
      "Validation loss: 0.0026667868799422423\n",
      "Trigger times: 0\n",
      "\n",
      "Epoch : 26\n",
      "Training loss: 0.006060428030836812\n",
      "Validation loss: 0.002309851308918126\n",
      "Trigger times: 0\n",
      "\n",
      "Epoch : 27\n",
      "Training loss: 0.006028931994038638\n",
      "Validation loss: 0.002611430523753393\n",
      "Trigger Times: 1\n",
      "\n",
      "Epoch : 28\n",
      "Training loss: 0.006067793140892983\n",
      "Validation loss: 0.0026662668550387434\n",
      "Trigger Times: 2\n",
      "\n",
      "Epoch : 29\n",
      "Training loss: 0.005977088067269121\n",
      "Validation loss: 0.0021861252628341253\n",
      "Trigger times: 0\n",
      "\n",
      "Epoch : 30\n",
      "Training loss: 0.0058586682373374865\n",
      "Validation loss: 0.002618619185864356\n",
      "Trigger Times: 1\n",
      "\n",
      "Epoch : 31\n",
      "Training loss: 0.0059110273406426505\n",
      "Validation loss: 0.0021378889944767103\n",
      "Trigger times: 0\n",
      "\n",
      "Epoch : 32\n",
      "Training loss: 0.005890336644331552\n",
      "Validation loss: 0.00348891229657664\n",
      "Trigger Times: 1\n",
      "\n",
      "Epoch : 33\n",
      "Training loss: 0.005848371570990136\n",
      "Validation loss: 0.002026611365504163\n",
      "Trigger times: 0\n",
      "\n",
      "Epoch : 34\n",
      "Training loss: 0.005805992613547373\n",
      "Validation loss: 0.0026175078948670583\n",
      "Trigger Times: 1\n",
      "\n",
      "Epoch : 35\n",
      "Training loss: 0.005829525543775736\n",
      "Validation loss: 0.002420709146296519\n",
      "Trigger times: 0\n",
      "\n",
      "Epoch : 36\n",
      "Training loss: 0.00568558893461672\n",
      "Validation loss: 0.002566589587580904\n",
      "Trigger Times: 1\n",
      "\n",
      "Epoch : 37\n",
      "Training loss: 0.005702034390834176\n",
      "Validation loss: 0.0023715140714009263\n",
      "Trigger times: 0\n",
      "\n",
      "Epoch : 38\n",
      "Training loss: 0.005635099944494686\n",
      "Validation loss: 0.0021293192773791706\n",
      "Trigger times: 0\n",
      "\n",
      "Epoch : 39\n",
      "Training loss: 0.0056012998003270795\n",
      "Validation loss: 0.003130168493320562\n",
      "Trigger Times: 1\n",
      "\n",
      "Epoch : 40\n",
      "Training loss: 0.005575725852257247\n",
      "Validation loss: 0.002270637930606937\n",
      "Trigger times: 0\n",
      "\n",
      "Epoch : 41\n",
      "Training loss: 0.005582245244482336\n",
      "Validation loss: 0.0020758894558598672\n",
      "Trigger times: 0\n",
      "\n",
      "Epoch : 42\n",
      "Training loss: 0.00550170416972415\n",
      "Validation loss: 0.002204124501114228\n",
      "Trigger Times: 1\n",
      "\n",
      "Epoch : 43\n",
      "Training loss: 0.005499294885982434\n",
      "Validation loss: 0.00269985917053309\n",
      "Trigger Times: 2\n",
      "\n",
      "Epoch : 44\n",
      "Training loss: 0.005451773394077694\n",
      "Validation loss: 0.002258158623053554\n",
      "Trigger times: 0\n",
      "\n",
      "Epoch : 45\n",
      "Training loss: 0.005436441877029785\n",
      "Validation loss: 0.002256058755120582\n",
      "Trigger times: 0\n",
      "\n",
      "Epoch : 46\n",
      "Training loss: 0.005393847209938343\n",
      "Validation loss: 0.002016040752235727\n",
      "Trigger times: 0\n",
      "\n",
      "Epoch : 47\n",
      "Training loss: 0.005352725882256323\n",
      "Validation loss: 0.002330711521566092\n",
      "Trigger Times: 1\n",
      "\n",
      "Epoch : 48\n",
      "Training loss: 0.005295120419424005\n",
      "Validation loss: 0.00232053204398659\n",
      "Trigger times: 0\n",
      "\n",
      "Epoch : 49\n",
      "Training loss: 0.005235891083303117\n",
      "Validation loss: 0.0022392761191582693\n",
      "Trigger times: 0\n",
      "\n",
      "Epoch : 50\n",
      "Training loss: 0.005238696787562686\n",
      "Validation loss: 0.0024242411917875435\n",
      "Trigger Times: 1\n"
     ]
    }
   ],
   "source": [
    "eval_losses=[] \n",
    "train_losses = []\n",
    "epochs=50\n",
    "# Early stopping\n",
    "last_loss = 100\n",
    "patience = 5\n",
    "triggertimes = 0\n",
    "for epoch in range(1,epochs+1): \n",
    "    train(epoch)\n",
    "    test(epoch)\n",
    "    if eval_losses[-1] > last_loss:\n",
    "        last_loss = eval_losses[-1]\n",
    "        trigger_times += 1\n",
    "        print('Trigger Times:', trigger_times)\n",
    "        if trigger_times >= patience:\n",
    "            print('Early stopping!')\n",
    "            break\n",
    "        else: \n",
    "            continue\n",
    "        break\n",
    "    else:\n",
    "        print('Trigger times: 0')\n",
    "        trigger_times = 0\n",
    "        last_loss = eval_losses[-1]\n",
    "        continue\n",
    "    break"
   ]
  },
  {
   "cell_type": "markdown",
   "id": "f9c0a84f-3e1f-4c4b-8e41-0165f8d4eda1",
   "metadata": {},
   "source": [
    "### The validation losses seem to jump around a lot, but stay stable around .003. After about 35 epochs we seem to achieve the minimum loss"
   ]
  },
  {
   "cell_type": "code",
   "execution_count": 34,
   "id": "c1421c50-3b77-49d3-864a-058789ab8ea8",
   "metadata": {},
   "outputs": [
    {
     "data": {
      "image/png": "[encoded data removed]",
      "text/plain": [
       "<Figure size 432x288 with 1 Axes>"
      ]
     },
     "metadata": {
      "needs_background": "light"
     },
     "output_type": "display_data"
    }
   ],
   "source": [
    "plt.plot(train_losses,'-o')\n",
    "plt.plot(eval_losses,'-o')\n",
    "plt.xlabel('epoch')\n",
    "plt.ylabel('losses')\n",
    "plt.legend(['Train','Valid'])\n",
    "plt.title('Train vs Valid Losses')\n",
    "plt.show()"
   ]
  },
  {
   "cell_type": "code",
   "execution_count": 36,
   "id": "6a0a0163-4c4f-4dcd-9789-0f98df789ad2",
   "metadata": {},
   "outputs": [],
   "source": [
    "### need to reshape labels to fit proper shape (otherwise we cannot evaluate the model properply)\n",
    "validation_labels = validation_labels.view((validation_labels.shape[0], -1))"
   ]
  },
  {
   "cell_type": "code",
   "execution_count": 37,
   "id": "0ecac775-ab3c-457f-929e-d4f4b5460d75",
   "metadata": {},
   "outputs": [],
   "source": [
    "validation_data, validation_labels = validation_data.float(), validation_labels.float()\n",
    "with torch.no_grad():\n",
    "    model.eval()\n",
    "    y_pred = model(validation_data)"
   ]
  },
  {
   "cell_type": "markdown",
   "id": "6d771ff9-8725-4d1d-aa51-d6e1724cb414",
   "metadata": {},
   "source": [
    "### True values vs predicted values. There doesn't seem to be a pattern in the data, all predicted values are pretty close to actual values"
   ]
  },
  {
   "cell_type": "code",
   "execution_count": 43,
   "id": "c713f046-494d-4989-881a-f7da2609b761",
   "metadata": {},
   "outputs": [
    {
     "data": {
      "image/png": "[encoded data removed]",
      "text/plain": [
       "<Figure size 720x720 with 1 Axes>"
      ]
     },
     "metadata": {
      "needs_background": "light"
     },
     "output_type": "display_data"
    }
   ],
   "source": [
    "plt.figure(figsize=(10,10))\n",
    "plt.scatter(validation_labels, y_pred, c='crimson')\n",
    "\n",
    "p1 = max(max(y_pred), max(validation_labels))\n",
    "p2 = min(min(y_pred), min(validation_labels))\n",
    "plt.plot([p1, p2], [p1, p2], 'b-')\n",
    "plt.xlabel('True Values', fontsize=15)\n",
    "plt.ylabel('Predictions', fontsize=15)\n",
    "plt.axis('equal')\n",
    "plt.show()"
   ]
  },
  {
   "cell_type": "code",
   "execution_count": null,
   "id": "957bfdf6-d9a8-4fb6-a251-d1720a597e69",
   "metadata": {},
   "outputs": [],
   "source": [
    "#model deployment (heroku, streamlit)\n",
    "#Github w/ readme file (comment in markdown below codeblocks, readMe file)\n",
    "#ReadMe -> how do I reproduce the code\n",
    "#https://www.freecodecamp.org/news/how-to-write-a-good-readme-file/"
   ]
  }
 ],
 "metadata": {
  "kernelspec": {
   "display_name": "default:Python",
   "language": "python",
   "name": "conda-env-default-py"
  },
  "language_info": {
   "codemirror_mode": {
    "name": "ipython",
    "version": 3
   },
   "file_extension": ".py",
   "mimetype": "text/x-python",
   "name": "python",
   "nbconvert_exporter": "python",
   "pygments_lexer": "ipython3",
   "version": "3.9.13"
  }
 },
 "nbformat": 4,
 "nbformat_minor": 5
}
