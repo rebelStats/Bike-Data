{
 "cells": [
  {
   "cell_type": "markdown",
   "id": "1bb817fb",
   "metadata": {},
   "source": [
    "# Public bike share dataset downloaded from Kaggle\n",
    "\n",
    "\n",
    "### Data was downloaded from https://www.kaggle.com/datasets/daesunryu/public-dataset-from-bikesharecompany and uploaded by user DAESUN RYU (https://www.kaggle.com/daesunryu)\n",
    "\n",
    "\n",
    "### Data included features such as the bike type, start and end locations, if the rider was a member or not, ride length, and ride date. We will use these features to explore the data, create new features, make casual inference about the data, and see if we can create a predict how far a rider will travel!"
   ]
  },
  {
   "cell_type": "code",
   "execution_count": 1,
   "id": "184ae0d7",
   "metadata": {},
   "outputs": [],
   "source": [
    "import pandas as pd\n",
    "import numpy as np\n",
    "from matplotlib import pyplot as plt\n",
    "import seaborn as sns"
   ]
  },
  {
   "cell_type": "code",
   "execution_count": 2,
   "id": "239a6705",
   "metadata": {},
   "outputs": [
    {
     "name": "stderr",
     "output_type": "stream",
     "text": [
      "/Users/user/opt/anaconda3/lib/python3.8/site-packages/IPython/core/interactiveshell.py:3165: DtypeWarning: Columns (6,8) have mixed types.Specify dtype option on import or set low_memory=False.\n",
      "  has_raised = await self.run_ast_nodes(code_ast.body, cell_name,\n"
     ]
    }
   ],
   "source": [
    "#read data\n",
    "bike = pd.read_csv('case_file.csv')"
   ]
  },
  {
   "cell_type": "code",
   "execution_count": 3,
   "id": "f96cffe1",
   "metadata": {},
   "outputs": [
    {
     "data": {
      "text/html": [
       "<div>\n",
       "<style scoped>\n",
       "    .dataframe tbody tr th:only-of-type {\n",
       "        vertical-align: middle;\n",
       "    }\n",
       "\n",
       "    .dataframe tbody tr th {\n",
       "        vertical-align: top;\n",
       "    }\n",
       "\n",
       "    .dataframe thead th {\n",
       "        text-align: right;\n",
       "    }\n",
       "</style>\n",
       "<table border=\"1\" class=\"dataframe\">\n",
       "  <thead>\n",
       "    <tr style=\"text-align: right;\">\n",
       "      <th></th>\n",
       "      <th>Unnamed: 0</th>\n",
       "      <th>ride_id</th>\n",
       "      <th>rideable_type</th>\n",
       "      <th>started_at</th>\n",
       "      <th>ended_at</th>\n",
       "      <th>start_station_name</th>\n",
       "      <th>start_station_id</th>\n",
       "      <th>end_station_name</th>\n",
       "      <th>end_station_id</th>\n",
       "      <th>start_lat</th>\n",
       "      <th>start_lng</th>\n",
       "      <th>end_lat</th>\n",
       "      <th>end_lng</th>\n",
       "      <th>member_casual</th>\n",
       "      <th>start_time</th>\n",
       "      <th>end_time</th>\n",
       "      <th>ride_length</th>\n",
       "      <th>start_date1</th>\n",
       "      <th>week_day</th>\n",
       "    </tr>\n",
       "  </thead>\n",
       "  <tbody>\n",
       "    <tr>\n",
       "      <th>0</th>\n",
       "      <td>74346</td>\n",
       "      <td>5DB63F4E4EB6A9CF</td>\n",
       "      <td>docked_bike</td>\n",
       "      <td>2020-04-01 00:00:30</td>\n",
       "      <td>2020-04-01 00:23:03</td>\n",
       "      <td>Damen Ave &amp; Wellington Ave</td>\n",
       "      <td>162</td>\n",
       "      <td>Pine Grove Ave &amp; Waveland Ave</td>\n",
       "      <td>232.0</td>\n",
       "      <td>41.9359</td>\n",
       "      <td>-87.6784</td>\n",
       "      <td>41.9493</td>\n",
       "      <td>-87.6463</td>\n",
       "      <td>casual</td>\n",
       "      <td>2020-04-01 00:00:30</td>\n",
       "      <td>2020-04-01 00:23:03</td>\n",
       "      <td>0 days 00:22:33</td>\n",
       "      <td>2020-04-01 00:00:00</td>\n",
       "      <td>Tuesday</td>\n",
       "    </tr>\n",
       "    <tr>\n",
       "      <th>1</th>\n",
       "      <td>46139</td>\n",
       "      <td>1FD159E93F7BAFA1</td>\n",
       "      <td>docked_bike</td>\n",
       "      <td>2020-04-01 00:02:35</td>\n",
       "      <td>2020-04-01 00:10:45</td>\n",
       "      <td>Wabash Ave &amp; 16th St</td>\n",
       "      <td>72</td>\n",
       "      <td>Wabash Ave &amp; 9th St</td>\n",
       "      <td>321.0</td>\n",
       "      <td>41.8604</td>\n",
       "      <td>-87.6258</td>\n",
       "      <td>41.8708</td>\n",
       "      <td>-87.6257</td>\n",
       "      <td>member</td>\n",
       "      <td>2020-04-01 00:02:35</td>\n",
       "      <td>2020-04-01 00:10:45</td>\n",
       "      <td>0 days 00:08:10</td>\n",
       "      <td>2020-04-01 00:00:00</td>\n",
       "      <td>Tuesday</td>\n",
       "    </tr>\n",
       "    <tr>\n",
       "      <th>2</th>\n",
       "      <td>17735</td>\n",
       "      <td>6D93A270684EC452</td>\n",
       "      <td>docked_bike</td>\n",
       "      <td>2020-04-01 00:02:41</td>\n",
       "      <td>2020-04-01 00:24:20</td>\n",
       "      <td>Damen Ave &amp; Wellington Ave</td>\n",
       "      <td>162</td>\n",
       "      <td>Spaulding Ave &amp; Armitage Ave</td>\n",
       "      <td>506.0</td>\n",
       "      <td>41.9359</td>\n",
       "      <td>-87.6784</td>\n",
       "      <td>41.9171</td>\n",
       "      <td>-87.7102</td>\n",
       "      <td>casual</td>\n",
       "      <td>2020-04-01 00:02:41</td>\n",
       "      <td>2020-04-01 00:24:20</td>\n",
       "      <td>0 days 00:21:39</td>\n",
       "      <td>2020-04-01 00:00:00</td>\n",
       "      <td>Tuesday</td>\n",
       "    </tr>\n",
       "    <tr>\n",
       "      <th>3</th>\n",
       "      <td>53075</td>\n",
       "      <td>091D47E4F0FC5022</td>\n",
       "      <td>docked_bike</td>\n",
       "      <td>2020-04-01 00:06:44</td>\n",
       "      <td>2020-04-01 00:14:01</td>\n",
       "      <td>Mies van der Rohe Way &amp; Chicago Ave</td>\n",
       "      <td>173</td>\n",
       "      <td>Clark St &amp; Schiller St</td>\n",
       "      <td>301.0</td>\n",
       "      <td>41.8969</td>\n",
       "      <td>-87.6217</td>\n",
       "      <td>41.9080</td>\n",
       "      <td>-87.6315</td>\n",
       "      <td>member</td>\n",
       "      <td>2020-04-01 00:06:44</td>\n",
       "      <td>2020-04-01 00:14:01</td>\n",
       "      <td>0 days 00:07:17</td>\n",
       "      <td>2020-04-01 00:00:00</td>\n",
       "      <td>Tuesday</td>\n",
       "    </tr>\n",
       "    <tr>\n",
       "      <th>4</th>\n",
       "      <td>46138</td>\n",
       "      <td>07F785C9DDA3404C</td>\n",
       "      <td>docked_bike</td>\n",
       "      <td>2020-04-01 00:11:18</td>\n",
       "      <td>2020-04-01 00:11:51</td>\n",
       "      <td>Wabash Ave &amp; 9th St</td>\n",
       "      <td>321</td>\n",
       "      <td>Wabash Ave &amp; 9th St</td>\n",
       "      <td>321.0</td>\n",
       "      <td>41.8708</td>\n",
       "      <td>-87.6257</td>\n",
       "      <td>41.8708</td>\n",
       "      <td>-87.6257</td>\n",
       "      <td>member</td>\n",
       "      <td>2020-04-01 00:11:18</td>\n",
       "      <td>2020-04-01 00:11:51</td>\n",
       "      <td>0 days 00:00:33</td>\n",
       "      <td>2020-04-01 00:00:00</td>\n",
       "      <td>Tuesday</td>\n",
       "    </tr>\n",
       "  </tbody>\n",
       "</table>\n",
       "</div>"
      ],
      "text/plain": [
       "   Unnamed: 0           ride_id rideable_type           started_at  \\\n",
       "0       74346  5DB63F4E4EB6A9CF   docked_bike  2020-04-01 00:00:30   \n",
       "1       46139  1FD159E93F7BAFA1   docked_bike  2020-04-01 00:02:35   \n",
       "2       17735  6D93A270684EC452   docked_bike  2020-04-01 00:02:41   \n",
       "3       53075  091D47E4F0FC5022   docked_bike  2020-04-01 00:06:44   \n",
       "4       46138  07F785C9DDA3404C   docked_bike  2020-04-01 00:11:18   \n",
       "\n",
       "              ended_at                   start_station_name start_station_id  \\\n",
       "0  2020-04-01 00:23:03           Damen Ave & Wellington Ave              162   \n",
       "1  2020-04-01 00:10:45                 Wabash Ave & 16th St               72   \n",
       "2  2020-04-01 00:24:20           Damen Ave & Wellington Ave              162   \n",
       "3  2020-04-01 00:14:01  Mies van der Rohe Way & Chicago Ave              173   \n",
       "4  2020-04-01 00:11:51                  Wabash Ave & 9th St              321   \n",
       "\n",
       "                end_station_name end_station_id  start_lat  start_lng  \\\n",
       "0  Pine Grove Ave & Waveland Ave          232.0    41.9359   -87.6784   \n",
       "1            Wabash Ave & 9th St          321.0    41.8604   -87.6258   \n",
       "2   Spaulding Ave & Armitage Ave          506.0    41.9359   -87.6784   \n",
       "3         Clark St & Schiller St          301.0    41.8969   -87.6217   \n",
       "4            Wabash Ave & 9th St          321.0    41.8708   -87.6257   \n",
       "\n",
       "   end_lat  end_lng member_casual           start_time             end_time  \\\n",
       "0  41.9493 -87.6463        casual  2020-04-01 00:00:30  2020-04-01 00:23:03   \n",
       "1  41.8708 -87.6257        member  2020-04-01 00:02:35  2020-04-01 00:10:45   \n",
       "2  41.9171 -87.7102        casual  2020-04-01 00:02:41  2020-04-01 00:24:20   \n",
       "3  41.9080 -87.6315        member  2020-04-01 00:06:44  2020-04-01 00:14:01   \n",
       "4  41.8708 -87.6257        member  2020-04-01 00:11:18  2020-04-01 00:11:51   \n",
       "\n",
       "       ride_length          start_date1 week_day  \n",
       "0  0 days 00:22:33  2020-04-01 00:00:00  Tuesday  \n",
       "1  0 days 00:08:10  2020-04-01 00:00:00  Tuesday  \n",
       "2  0 days 00:21:39  2020-04-01 00:00:00  Tuesday  \n",
       "3  0 days 00:07:17  2020-04-01 00:00:00  Tuesday  \n",
       "4  0 days 00:00:33  2020-04-01 00:00:00  Tuesday  "
      ]
     },
     "execution_count": 3,
     "metadata": {},
     "output_type": "execute_result"
    }
   ],
   "source": [
    "bike.head(5)"
   ]
  },
  {
   "cell_type": "code",
   "execution_count": 4,
   "id": "6619cdc8",
   "metadata": {},
   "outputs": [],
   "source": [
    "#throws error if not converted\n",
    "bike['start_time']=pd.to_datetime(bike['start_time'])\n",
    "bike['end_time']=pd.to_datetime(bike['end_time'])\n",
    "bike.ride_length=bike.end_time-bike.start_time"
   ]
  },
  {
   "cell_type": "code",
   "execution_count": 5,
   "id": "d7bdc308",
   "metadata": {},
   "outputs": [
    {
     "data": {
      "text/html": [
       "<div>\n",
       "<style scoped>\n",
       "    .dataframe tbody tr th:only-of-type {\n",
       "        vertical-align: middle;\n",
       "    }\n",
       "\n",
       "    .dataframe tbody tr th {\n",
       "        vertical-align: top;\n",
       "    }\n",
       "\n",
       "    .dataframe thead th {\n",
       "        text-align: right;\n",
       "    }\n",
       "</style>\n",
       "<table border=\"1\" class=\"dataframe\">\n",
       "  <thead>\n",
       "    <tr style=\"text-align: right;\">\n",
       "      <th></th>\n",
       "      <th>Unnamed: 0</th>\n",
       "      <th>ride_id</th>\n",
       "      <th>rideable_type</th>\n",
       "      <th>started_at</th>\n",
       "      <th>ended_at</th>\n",
       "      <th>start_station_name</th>\n",
       "      <th>start_station_id</th>\n",
       "      <th>end_station_name</th>\n",
       "      <th>end_station_id</th>\n",
       "      <th>start_lat</th>\n",
       "      <th>start_lng</th>\n",
       "      <th>end_lat</th>\n",
       "      <th>end_lng</th>\n",
       "      <th>member_casual</th>\n",
       "      <th>start_time</th>\n",
       "      <th>end_time</th>\n",
       "      <th>ride_length</th>\n",
       "      <th>start_date1</th>\n",
       "      <th>week_day</th>\n",
       "    </tr>\n",
       "  </thead>\n",
       "  <tbody>\n",
       "    <tr>\n",
       "      <th>3056234</th>\n",
       "      <td>3006508</td>\n",
       "      <td>021A73F8C18B932D</td>\n",
       "      <td>docked_bike</td>\n",
       "      <td>2020-12-15 12:15:58</td>\n",
       "      <td>2020-11-25 16:48:02</td>\n",
       "      <td>Clark St &amp; Winnemac Ave</td>\n",
       "      <td>TA1309000035</td>\n",
       "      <td>Ravenswood Ave &amp; Berteau Ave</td>\n",
       "      <td>TA1309000018</td>\n",
       "      <td>41.973347</td>\n",
       "      <td>-87.667855</td>\n",
       "      <td>41.957921</td>\n",
       "      <td>-87.673567</td>\n",
       "      <td>member</td>\n",
       "      <td>2020-12-15 12:15:58</td>\n",
       "      <td>2020-11-25 16:48:02</td>\n",
       "      <td>-20 days +04:32:04</td>\n",
       "      <td>2020-12-15 00:00:00</td>\n",
       "      <td>Monday</td>\n",
       "    </tr>\n",
       "    <tr>\n",
       "      <th>2956401</th>\n",
       "      <td>2829583</td>\n",
       "      <td>021A73F8C18B932D</td>\n",
       "      <td>docked_bike</td>\n",
       "      <td>2020-11-25 16:35:39</td>\n",
       "      <td>2020-11-25 16:48:02</td>\n",
       "      <td>Clark St &amp; Winnemac Ave</td>\n",
       "      <td>325.0</td>\n",
       "      <td>Ravenswood Ave &amp; Berteau Ave</td>\n",
       "      <td>314.0</td>\n",
       "      <td>41.973347</td>\n",
       "      <td>-87.667855</td>\n",
       "      <td>41.957921</td>\n",
       "      <td>-87.673567</td>\n",
       "      <td>member</td>\n",
       "      <td>2020-11-25 16:35:39</td>\n",
       "      <td>2020-11-25 16:48:02</td>\n",
       "      <td>0 days 00:12:23</td>\n",
       "      <td>2020-11-25 00:00:00</td>\n",
       "      <td>Tuesday</td>\n",
       "    </tr>\n",
       "    <tr>\n",
       "      <th>3055972</th>\n",
       "      <td>3020384</td>\n",
       "      <td>0334987B57662109</td>\n",
       "      <td>docked_bike</td>\n",
       "      <td>2020-12-15 11:56:33</td>\n",
       "      <td>2020-11-25 16:22:04</td>\n",
       "      <td>Broadway &amp; Berwyn Ave</td>\n",
       "      <td>13109</td>\n",
       "      <td>Lakefront Trail &amp; Bryn Mawr Ave</td>\n",
       "      <td>KA1504000152</td>\n",
       "      <td>41.978353</td>\n",
       "      <td>-87.659753</td>\n",
       "      <td>41.984037</td>\n",
       "      <td>-87.652310</td>\n",
       "      <td>member</td>\n",
       "      <td>2020-12-15 11:56:33</td>\n",
       "      <td>2020-11-25 16:22:04</td>\n",
       "      <td>-20 days +04:25:31</td>\n",
       "      <td>2020-12-15 00:00:00</td>\n",
       "      <td>Monday</td>\n",
       "    </tr>\n",
       "    <tr>\n",
       "      <th>2956275</th>\n",
       "      <td>2797522</td>\n",
       "      <td>0334987B57662109</td>\n",
       "      <td>docked_bike</td>\n",
       "      <td>2020-11-25 16:15:04</td>\n",
       "      <td>2020-11-25 16:22:04</td>\n",
       "      <td>Broadway &amp; Berwyn Ave</td>\n",
       "      <td>294.0</td>\n",
       "      <td>Lakefront Trail &amp; Bryn Mawr Ave</td>\n",
       "      <td>459.0</td>\n",
       "      <td>41.978353</td>\n",
       "      <td>-87.659753</td>\n",
       "      <td>41.984037</td>\n",
       "      <td>-87.652310</td>\n",
       "      <td>member</td>\n",
       "      <td>2020-11-25 16:15:04</td>\n",
       "      <td>2020-11-25 16:22:04</td>\n",
       "      <td>0 days 00:07:00</td>\n",
       "      <td>2020-11-25 00:00:00</td>\n",
       "      <td>Tuesday</td>\n",
       "    </tr>\n",
       "    <tr>\n",
       "      <th>2956238</th>\n",
       "      <td>2781321</td>\n",
       "      <td>038CAB4A84D9A56B</td>\n",
       "      <td>docked_bike</td>\n",
       "      <td>2020-11-25 16:08:05</td>\n",
       "      <td>2020-11-25 16:24:56</td>\n",
       "      <td>Wabash Ave &amp; 9th St</td>\n",
       "      <td>321.0</td>\n",
       "      <td>Wabash Ave &amp; 9th St</td>\n",
       "      <td>321.0</td>\n",
       "      <td>41.870769</td>\n",
       "      <td>-87.625734</td>\n",
       "      <td>41.870769</td>\n",
       "      <td>-87.625734</td>\n",
       "      <td>member</td>\n",
       "      <td>2020-11-25 16:08:05</td>\n",
       "      <td>2020-11-25 16:24:56</td>\n",
       "      <td>0 days 00:16:51</td>\n",
       "      <td>2020-11-25 00:00:00</td>\n",
       "      <td>Tuesday</td>\n",
       "    </tr>\n",
       "  </tbody>\n",
       "</table>\n",
       "</div>"
      ],
      "text/plain": [
       "         Unnamed: 0           ride_id rideable_type           started_at  \\\n",
       "3056234     3006508  021A73F8C18B932D   docked_bike  2020-12-15 12:15:58   \n",
       "2956401     2829583  021A73F8C18B932D   docked_bike  2020-11-25 16:35:39   \n",
       "3055972     3020384  0334987B57662109   docked_bike  2020-12-15 11:56:33   \n",
       "2956275     2797522  0334987B57662109   docked_bike  2020-11-25 16:15:04   \n",
       "2956238     2781321  038CAB4A84D9A56B   docked_bike  2020-11-25 16:08:05   \n",
       "\n",
       "                    ended_at       start_station_name start_station_id  \\\n",
       "3056234  2020-11-25 16:48:02  Clark St & Winnemac Ave     TA1309000035   \n",
       "2956401  2020-11-25 16:48:02  Clark St & Winnemac Ave            325.0   \n",
       "3055972  2020-11-25 16:22:04    Broadway & Berwyn Ave            13109   \n",
       "2956275  2020-11-25 16:22:04    Broadway & Berwyn Ave            294.0   \n",
       "2956238  2020-11-25 16:24:56      Wabash Ave & 9th St            321.0   \n",
       "\n",
       "                        end_station_name end_station_id  start_lat  start_lng  \\\n",
       "3056234     Ravenswood Ave & Berteau Ave   TA1309000018  41.973347 -87.667855   \n",
       "2956401     Ravenswood Ave & Berteau Ave          314.0  41.973347 -87.667855   \n",
       "3055972  Lakefront Trail & Bryn Mawr Ave   KA1504000152  41.978353 -87.659753   \n",
       "2956275  Lakefront Trail & Bryn Mawr Ave          459.0  41.978353 -87.659753   \n",
       "2956238              Wabash Ave & 9th St          321.0  41.870769 -87.625734   \n",
       "\n",
       "           end_lat    end_lng member_casual          start_time  \\\n",
       "3056234  41.957921 -87.673567        member 2020-12-15 12:15:58   \n",
       "2956401  41.957921 -87.673567        member 2020-11-25 16:35:39   \n",
       "3055972  41.984037 -87.652310        member 2020-12-15 11:56:33   \n",
       "2956275  41.984037 -87.652310        member 2020-11-25 16:15:04   \n",
       "2956238  41.870769 -87.625734        member 2020-11-25 16:08:05   \n",
       "\n",
       "                   end_time        ride_length          start_date1 week_day  \n",
       "3056234 2020-11-25 16:48:02 -20 days +04:32:04  2020-12-15 00:00:00   Monday  \n",
       "2956401 2020-11-25 16:48:02    0 days 00:12:23  2020-11-25 00:00:00  Tuesday  \n",
       "3055972 2020-11-25 16:22:04 -20 days +04:25:31  2020-12-15 00:00:00   Monday  \n",
       "2956275 2020-11-25 16:22:04    0 days 00:07:00  2020-11-25 00:00:00  Tuesday  \n",
       "2956238 2020-11-25 16:24:56    0 days 00:16:51  2020-11-25 00:00:00  Tuesday  "
      ]
     },
     "execution_count": 5,
     "metadata": {},
     "output_type": "execute_result"
    }
   ],
   "source": [
    "#duplicate ride ID's (probably a bug)\n",
    "rideduplicates=bike[bike.duplicated(subset='ride_id',keep=False)]\n",
    "rideduplicates.sort_values('ride_id').head(5)"
   ]
  },
  {
   "cell_type": "markdown",
   "id": "a8f79321",
   "metadata": {},
   "source": [
    "### Remove replicates and ride lengths less than 0 "
   ]
  },
  {
   "cell_type": "code",
   "execution_count": 6,
   "id": "dc92dc49",
   "metadata": {
    "scrolled": true
   },
   "outputs": [],
   "source": [
    "bike=bike[bike.ride_length>pd.Timedelta(0)]"
   ]
  },
  {
   "cell_type": "code",
   "execution_count": 7,
   "id": "6c6bd073",
   "metadata": {},
   "outputs": [
    {
     "data": {
      "text/plain": [
       "0"
      ]
     },
     "execution_count": 7,
     "metadata": {},
     "output_type": "execute_result"
    }
   ],
   "source": [
    "rideduplicates=bike[bike.duplicated(subset='ride_id',keep=False)]\n",
    "len(rideduplicates)"
   ]
  },
  {
   "cell_type": "code",
   "execution_count": 8,
   "id": "e2ad50d7",
   "metadata": {},
   "outputs": [
    {
     "data": {
      "text/plain": [
       "member    0.589814\n",
       "casual    0.410186\n",
       "Name: member_casual, dtype: float64"
      ]
     },
     "execution_count": 8,
     "metadata": {},
     "output_type": "execute_result"
    }
   ],
   "source": [
    "bike.member_casual.value_counts(normalize=True)"
   ]
  },
  {
   "cell_type": "markdown",
   "id": "37ea6ce8",
   "metadata": {},
   "source": [
    "### About 59% of riders are members and 41% are casual users"
   ]
  },
  {
   "cell_type": "code",
   "execution_count": 9,
   "id": "c085d84a",
   "metadata": {
    "scrolled": true
   },
   "outputs": [
    {
     "data": {
      "text/plain": [
       "Friday       0.189177\n",
       "Saturday     0.151636\n",
       "Thursday     0.148006\n",
       "Wednesday    0.134184\n",
       "Tuesday      0.133221\n",
       "Monday       0.123487\n",
       "Sunday       0.120289\n",
       "Name: week_day, dtype: float64"
      ]
     },
     "execution_count": 9,
     "metadata": {},
     "output_type": "execute_result"
    }
   ],
   "source": [
    "bike.week_day.value_counts(normalize=True)"
   ]
  },
  {
   "cell_type": "markdown",
   "id": "ea152a85",
   "metadata": {},
   "source": [
    "### Friday, Saturday, and Thursday where the most popular days for bike rentals with about 19% of rentals happening on Friday"
   ]
  },
  {
   "cell_type": "code",
   "execution_count": 10,
   "id": "fae52495",
   "metadata": {},
   "outputs": [],
   "source": [
    "bike['ride_length_seconds']=(pd.to_datetime(bike.end_time)-pd.to_datetime(bike.start_time)).dt.total_seconds()"
   ]
  },
  {
   "cell_type": "code",
   "execution_count": 11,
   "id": "31d9de33",
   "metadata": {},
   "outputs": [
    {
     "data": {
      "text/plain": [
       "count                      3478810\n",
       "mean     0 days 00:27:57.235397736\n",
       "std      0 days 04:12:51.815500914\n",
       "min                0 days 00:00:01\n",
       "25%                0 days 00:07:56\n",
       "50%                0 days 00:14:34\n",
       "75%                0 days 00:26:41\n",
       "max               40 days 18:40:02\n",
       "Name: ride_length, dtype: object"
      ]
     },
     "execution_count": 11,
     "metadata": {},
     "output_type": "execute_result"
    }
   ],
   "source": [
    "bike.ride_length.describe()"
   ]
  },
  {
   "cell_type": "code",
   "execution_count": 12,
   "id": "a6f38e24",
   "metadata": {
    "scrolled": true
   },
   "outputs": [
    {
     "data": {
      "text/plain": [
       "count    3.478810e+06\n",
       "mean     1.677235e+03\n",
       "std      1.517182e+04\n",
       "min      1.000000e+00\n",
       "25%      4.760000e+02\n",
       "50%      8.740000e+02\n",
       "75%      1.601000e+03\n",
       "max      3.523202e+06\n",
       "Name: ride_length_seconds, dtype: float64"
      ]
     },
     "execution_count": 12,
     "metadata": {},
     "output_type": "execute_result"
    }
   ],
   "source": [
    "bike.ride_length_seconds.describe()"
   ]
  },
  {
   "cell_type": "code",
   "execution_count": 13,
   "id": "9b3c030e",
   "metadata": {},
   "outputs": [
    {
     "data": {
      "image/png": "[encoded data removed]",
      "text/plain": [
       "<Figure size 432x288 with 1 Axes>"
      ]
     },
     "metadata": {
      "needs_background": "dark"
     },
     "output_type": "display_data"
    }
   ],
   "source": [
    "sns.boxplot(x=bike[\"ride_length_seconds\"]).tick_params(axis='both', colors='white')"
   ]
  },
  {
   "cell_type": "markdown",
   "id": "3aa13435",
   "metadata": {},
   "source": [
    "## Seems like a lot of outliers from the boxplot above"
   ]
  },
  {
   "cell_type": "code",
   "execution_count": 14,
   "id": "1e3af590",
   "metadata": {},
   "outputs": [],
   "source": [
    "Q1 = np.percentile(bike['ride_length_seconds'], 25,\n",
    "                   interpolation = 'midpoint')\n",
    "Q3 = np.percentile(bike['ride_length_seconds'], 75,\n",
    "                   interpolation = 'midpoint')\n",
    "IQR = Q3 - Q1"
   ]
  },
  {
   "cell_type": "code",
   "execution_count": 15,
   "id": "8c4f98ed",
   "metadata": {},
   "outputs": [
    {
     "name": "stdout",
     "output_type": "stream",
     "text": [
      "Q1: 476.0 seconds or 7.93 minutes\n",
      "Q3: 1601.0 seconds or 26.68 minutes\n",
      "IQR: 1125.0 seconds or 18.75 minutes\n"
     ]
    }
   ],
   "source": [
    "print(\"Q1:\", round(Q1,2), \"seconds\", \"or\", round(Q1/60,2),\"minutes\")\n",
    "print(\"Q3:\", round(Q3,2), \"seconds\", \"or\", round(Q3/60,2),\"minutes\")\n",
    "print(\"IQR:\", round(IQR,2), \"seconds\", \"or\", round(IQR/60,2),\"minutes\")"
   ]
  },
  {
   "cell_type": "code",
   "execution_count": 16,
   "id": "fd0ce6e9",
   "metadata": {},
   "outputs": [
    {
     "data": {
      "text/plain": [
       "<AxesSubplot:>"
      ]
     },
     "execution_count": 16,
     "metadata": {},
     "output_type": "execute_result"
    },
    {
     "data": {
      "image/png": "[encoded data removed]",
      "text/plain": [
       "<Figure size 432x288 with 1 Axes>"
      ]
     },
     "metadata": {
      "needs_background": "light"
     },
     "output_type": "display_data"
    }
   ],
   "source": [
    "bike.ride_length_seconds[bike.ride_length_seconds<400].hist()"
   ]
  },
  {
   "cell_type": "code",
   "execution_count": 17,
   "id": "30b1aee4",
   "metadata": {},
   "outputs": [
    {
     "data": {
      "text/plain": [
       "<AxesSubplot:>"
      ]
     },
     "execution_count": 17,
     "metadata": {},
     "output_type": "execute_result"
    },
    {
     "data": {
      "image/png": "[encoded data removed]",
      "text/plain": [
       "<Figure size 432x288 with 1 Axes>"
      ]
     },
     "metadata": {
      "needs_background": "light"
     },
     "output_type": "display_data"
    }
   ],
   "source": [
    "bike.ride_length_seconds[bike.ride_length_seconds<10].hist()"
   ]
  },
  {
   "cell_type": "markdown",
   "id": "89467eb1",
   "metadata": {},
   "source": [
    "### Seems like the data starts to follow the expected pattern after ride length of 75 seconds\n",
    "### These might be customers who changed their mind, activated by accident, ect. and they should be looked at differently"
   ]
  },
  {
   "cell_type": "code",
   "execution_count": 18,
   "id": "0d2d5854",
   "metadata": {},
   "outputs": [],
   "source": [
    "Excluded_rides = bike[bike.ride_length_seconds<=55]"
   ]
  },
  {
   "cell_type": "code",
   "execution_count": 19,
   "id": "05a9b3f6",
   "metadata": {},
   "outputs": [],
   "source": [
    "bike=bike[bike.ride_length_seconds>55]"
   ]
  },
  {
   "cell_type": "markdown",
   "id": "3cee4973",
   "metadata": {},
   "source": [
    "### recalculate IQR and quartiles"
   ]
  },
  {
   "cell_type": "code",
   "execution_count": 20,
   "id": "8c65d990",
   "metadata": {},
   "outputs": [],
   "source": [
    "Q1 = np.percentile(bike['ride_length_seconds'], 25,\n",
    "                   interpolation = 'midpoint')\n",
    "Q3 = np.percentile(bike['ride_length_seconds'], 75,\n",
    "                   interpolation = 'midpoint')\n",
    "IQR = Q3 - Q1"
   ]
  },
  {
   "cell_type": "code",
   "execution_count": 21,
   "id": "26689a3c",
   "metadata": {},
   "outputs": [
    {
     "name": "stdout",
     "output_type": "stream",
     "text": [
      "Q1: 490.0 seconds or 8.17 minutes\n",
      "Q3: 1616.0 seconds or 26.93 minutes\n",
      "IQR: 1126.0 seconds or 18.77 minutes\n"
     ]
    }
   ],
   "source": [
    "print(\"Q1:\", round(Q1,2), \"seconds\", \"or\", round(Q1/60,2),\"minutes\")\n",
    "print(\"Q3:\", round(Q3,2), \"seconds\", \"or\", round(Q3/60,2),\"minutes\")\n",
    "print(\"IQR:\", round(IQR,2), \"seconds\", \"or\", round(IQR/60,2),\"minutes\")"
   ]
  },
  {
   "cell_type": "markdown",
   "id": "bef6aca9",
   "metadata": {},
   "source": [
    "### need to investigate the upper bound as well"
   ]
  },
  {
   "cell_type": "code",
   "execution_count": 22,
   "id": "86b44f03",
   "metadata": {},
   "outputs": [
    {
     "data": {
      "text/plain": [
       "<AxesSubplot:>"
      ]
     },
     "execution_count": 22,
     "metadata": {},
     "output_type": "execute_result"
    },
    {
     "data": {
      "image/png": "[encoded data removed]",
      "text/plain": [
       "<Figure size 432x288 with 1 Axes>"
      ]
     },
     "metadata": {
      "needs_background": "light"
     },
     "output_type": "display_data"
    }
   ],
   "source": [
    "bike.ride_length_seconds[(bike.ride_length_seconds>1618) & (bike.ride_length_seconds<10000)].hist()"
   ]
  },
  {
   "cell_type": "markdown",
   "id": "ff0e76be",
   "metadata": {},
   "source": [
    "### There is no outlying pattern like there was for the values close to 0 so we should simply remove the outliers (values greater than Q3+1.5*IQR)"
   ]
  },
  {
   "cell_type": "code",
   "execution_count": 23,
   "id": "d0753feb",
   "metadata": {},
   "outputs": [],
   "source": [
    "Excluded_rides=Excluded_rides.append(bike[bike.ride_length_seconds>=3307])"
   ]
  },
  {
   "cell_type": "code",
   "execution_count": 24,
   "id": "9e733a85",
   "metadata": {},
   "outputs": [],
   "source": [
    "bike=bike[bike.ride_length_seconds<3307]"
   ]
  },
  {
   "cell_type": "markdown",
   "id": "d17c40bf",
   "metadata": {},
   "source": [
    "#### After removing abnormal values, the data follows a right skewed pattern with most rides occuring around 500 seconds"
   ]
  },
  {
   "cell_type": "code",
   "execution_count": 25,
   "id": "0c17c560",
   "metadata": {},
   "outputs": [
    {
     "data": {
      "text/plain": [
       "<AxesSubplot:>"
      ]
     },
     "execution_count": 25,
     "metadata": {},
     "output_type": "execute_result"
    },
    {
     "data": {
      "image/png": "[encoded data removed]",
      "text/plain": [
       "<Figure size 432x288 with 1 Axes>"
      ]
     },
     "metadata": {
      "needs_background": "light"
     },
     "output_type": "display_data"
    }
   ],
   "source": [
    "bike.ride_length_seconds.hist(bins=50)"
   ]
  },
  {
   "cell_type": "code",
   "execution_count": 30,
   "id": "63e55d2f",
   "metadata": {},
   "outputs": [
    {
     "data": {
      "text/plain": [
       "3306.0"
      ]
     },
     "execution_count": 30,
     "metadata": {},
     "output_type": "execute_result"
    }
   ],
   "source": [
    "bike.ride_length_seconds.max()"
   ]
  },
  {
   "cell_type": "code",
   "execution_count": 31,
   "id": "7abdd195",
   "metadata": {},
   "outputs": [],
   "source": [
    "bike.to_csv('Bike_preprocessed.csv', index=False)"
   ]
  }
 ],
 "metadata": {
  "kernelspec": {
   "display_name": "Python 3",
   "language": "python",
   "name": "python3"
  },
  "language_info": {
   "codemirror_mode": {
    "name": "ipython",
    "version": 3
   },
   "file_extension": ".py",
   "mimetype": "text/x-python",
   "name": "python",
   "nbconvert_exporter": "python",
   "pygments_lexer": "ipython3",
   "version": "3.8.8"
  }
 },
 "nbformat": 4,
 "nbformat_minor": 5
}
