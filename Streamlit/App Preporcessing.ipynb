{
 "cells": [
  {
   "cell_type": "markdown",
   "id": "ad6e29a2",
   "metadata": {},
   "source": [
    "### We make the process of building the app easier if the selection boxes in the streamlit app match the column names"
   ]
  },
  {
   "cell_type": "code",
   "execution_count": 8,
   "id": "3cad6ce7",
   "metadata": {},
   "outputs": [],
   "source": [
    "import pandas as pd\n",
    "import numpy as np\n",
    "bike = pd.read_csv('bike_features_final.csv')"
   ]
  },
  {
   "cell_type": "code",
   "execution_count": 5,
   "id": "e9790f83",
   "metadata": {},
   "outputs": [
    {
     "data": {
      "text/plain": [
       "Index(['Unnamed: 0', 'ride_id', 'rideable_type', 'started_at', 'ended_at',\n",
       "       'start_station_name', 'start_station_id', 'end_station_name',\n",
       "       'end_station_id', 'start_lat', 'start_lng', 'end_lat', 'end_lng',\n",
       "       'member_casual', 'start_time', 'end_time', 'ride_length', 'start_date1',\n",
       "       'week_day', 'ride_length_seconds', 'Time_diff', 'with_friend',\n",
       "       'ride_type', 'weekend_weekday', 'time_only', 'hour', 'time_of_day',\n",
       "       'Dist', 'ride_length_hours', 'speed_kmh'],\n",
       "      dtype='object')"
      ]
     },
     "execution_count": 5,
     "metadata": {},
     "output_type": "execute_result"
    }
   ],
   "source": [
    "bike.columns"
   ]
  },
  {
   "cell_type": "code",
   "execution_count": 15,
   "id": "affb441f",
   "metadata": {},
   "outputs": [],
   "source": [
    "#create categorical variable from numeric for the selection box\n",
    "bike[\"weekend_weekday\"] = np.where(bike['weekend_weekday'] == 1, 'Weekend','Weekday')\n",
    "bike[\"with_friend\"] = np.where(bike['with_friend'] == 1, 'Yes','No')"
   ]
  },
  {
   "cell_type": "code",
   "execution_count": 16,
   "id": "986ee34d",
   "metadata": {},
   "outputs": [],
   "source": [
    "variables= [\"member_casual\",\"weekend_weekday\",\"ride_length_seconds\",\"with_friend\",\"time_of_day\",\"speed_kmh\",\"Dist\"]\n",
    "bike = bike[variables]"
   ]
  },
  {
   "cell_type": "code",
   "execution_count": 18,
   "id": "7fca7705",
   "metadata": {},
   "outputs": [],
   "source": [
    "#need to reduce the size of the file under 100MB for github\n",
    "from sklearn.model_selection import train_test_split\n",
    "bike1,bike2 = train_test_split(bike,test_size=0.5)"
   ]
  },
  {
   "cell_type": "code",
   "execution_count": 19,
   "id": "b8d581a9",
   "metadata": {},
   "outputs": [],
   "source": [
    "bike1.to_csv('Bike_streamlit.csv', index=False)"
   ]
  },
  {
   "cell_type": "code",
   "execution_count": null,
   "id": "2631f17f",
   "metadata": {},
   "outputs": [],
   "source": []
  }
 ],
 "metadata": {
  "kernelspec": {
   "display_name": "Python 3",
   "language": "python",
   "name": "python3"
  },
  "language_info": {
   "codemirror_mode": {
    "name": "ipython",
    "version": 3
   },
   "file_extension": ".py",
   "mimetype": "text/x-python",
   "name": "python",
   "nbconvert_exporter": "python",
   "pygments_lexer": "ipython3",
   "version": "3.8.8"
  }
 },
 "nbformat": 4,
 "nbformat_minor": 5
}
